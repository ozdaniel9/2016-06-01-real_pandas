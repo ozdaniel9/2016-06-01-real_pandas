{
 "cells": [
  {
   "cell_type": "code",
   "execution_count": null,
   "metadata": {
    "collapsed": false
   },
   "outputs": [],
   "source": [
    "from IPython.core.display import HTML, Image\n",
    "css = open('style/style-table.css').read() + open('style/style-notebook.css').read()\n",
    "HTML('<style>{}</style>'.format(css))"
   ]
  },
  {
   "cell_type": "markdown",
   "metadata": {},
   "source": [
    "# The programming world"
   ]
  },
  {
   "cell_type": "markdown",
   "metadata": {},
   "source": [
    "### Variables"
   ]
  },
  {
   "cell_type": "markdown",
   "metadata": {},
   "source": [
    "- The assignment operator\n",
    "- valid names\n",
    "- assigning the output of an expression\n"
   ]
  },
  {
   "cell_type": "code",
   "execution_count": null,
   "metadata": {
    "collapsed": false
   },
   "outputs": [],
   "source": [
    "%load Challenges/ex1.py"
   ]
  },
  {
   "cell_type": "markdown",
   "metadata": {},
   "source": [
    "### The magical list"
   ]
  },
  {
   "cell_type": "markdown",
   "metadata": {},
   "source": [
    "- creating\n",
    "- slicing\n",
    "- adding, deleting, insert, append"
   ]
  },
  {
   "cell_type": "markdown",
   "metadata": {},
   "source": [
    "### The mysterious dictionary"
   ]
  },
  {
   "cell_type": "markdown",
   "metadata": {},
   "source": [
    "- suitable data types\n",
    "- hashable"
   ]
  },
  {
   "cell_type": "code",
   "execution_count": null,
   "metadata": {
    "collapsed": false
   },
   "outputs": [],
   "source": [
    "from IPython.display import FileLink\n",
    "FileLink('treasure_hunt/treasure_hunt.ipynb')"
   ]
  },
  {
   "cell_type": "markdown",
   "metadata": {},
   "source": [
    "### The immutable tuple"
   ]
  },
  {
   "cell_type": "markdown",
   "metadata": {},
   "source": [
    "- why immutable?"
   ]
  },
  {
   "cell_type": "markdown",
   "metadata": {},
   "source": [
    "### The strict set"
   ]
  },
  {
   "cell_type": "markdown",
   "metadata": {},
   "source": [
    "- no repeats\n",
    "- like a Venn diagram"
   ]
  },
  {
   "cell_type": "code",
   "execution_count": null,
   "metadata": {
    "collapsed": false
   },
   "outputs": [],
   "source": [
    "Image('images/venn-pbpython2.png')"
   ]
  },
  {
   "cell_type": "markdown",
   "metadata": {},
   "source": [
    "Operation| Equivalent |\tResult\n",
    "---------|------------|---------\n",
    "len(s)\t |\t|number of elements in set s (cardinality)\n",
    "x in s\t |\t| test x for membership in s\n",
    "x not in s\t| \t|test x for non-membership in s\n",
    "s.issubset(t)\t|s <= t\t|test whether every element in s is in t\n",
    "s.issuperset(t)| s >= t\t|test whether every element in t is in s\n",
    "s.union(t)|\ts &#124; t |\tnew set with elements from both s and t\n",
    "s.intersection(t)|\ts & t\t| new set with elements common to s and t\n",
    "s.difference(t)|\ts - t\t| new set with elements in s but not in t\n",
    "s.symmetric_difference(t)|\ts ^ t\t| new set with elements in either s or t but not both\n",
    "s.copy()|\t \t|new set with a shallow copy of s"
   ]
  },
  {
   "cell_type": "markdown",
   "metadata": {},
   "source": [
    "# Program control"
   ]
  },
  {
   "cell_type": "markdown",
   "metadata": {},
   "source": [
    "### Automate the boring stuff"
   ]
  },
  {
   "cell_type": "markdown",
   "metadata": {},
   "source": [
    "### for loops"
   ]
  },
  {
   "cell_type": "markdown",
   "metadata": {},
   "source": [
    "### conditionals"
   ]
  },
  {
   "cell_type": "markdown",
   "metadata": {},
   "source": [
    "- if\n",
    "- elif\n",
    "- else\n",
    "\n",
    "Operation |\tMeaning\n",
    "----------|-----------\n",
    "<\t| strictly less than\n",
    "<=\t| less than or equal\n",
    ">\t| strictly greater than\n",
    ">=\t| greater than or equal\n",
    "==\t| equal\n",
    "!=\t| not equal\n",
    "is\t| object identity\n",
    "is not\t| negated object identity"
   ]
  },
  {
   "cell_type": "markdown",
   "metadata": {},
   "source": [
    "### booleans"
   ]
  },
  {
   "cell_type": "markdown",
   "metadata": {},
   "source": [
    "# Writing programs"
   ]
  },
  {
   "cell_type": "markdown",
   "metadata": {},
   "source": [
    "### Functions"
   ]
  },
  {
   "cell_type": "markdown",
   "metadata": {},
   "source": [
    "### Tests"
   ]
  },
  {
   "cell_type": "markdown",
   "metadata": {
    "collapsed": true
   },
   "source": [
    "- assert\n",
    "- try, except"
   ]
  },
  {
   "cell_type": "code",
   "execution_count": null,
   "metadata": {
    "collapsed": true
   },
   "outputs": [],
   "source": []
  },
  {
   "cell_type": "markdown",
   "metadata": {},
   "source": [
    "### Getting help"
   ]
  },
  {
   "cell_type": "markdown",
   "metadata": {
    "collapsed": true
   },
   "source": [
    "When asking programming questions, remember to do the following:\n",
    "- Explain what you are trying to do, not just what you did. This lets your helper know if you are on the wrong track.\n",
    "\n",
    "- Specify the point at which the error happens. Does it occur at the very start of the program or only after you do a certain action?\n",
    "\n",
    "- Copy and paste the entire error message and your code to http://pastebin.com/ or http://gist.github.com/.\n",
    "These websites make it easy to share large amounts of code with people over the Web, without the risk of losing any text formatting. You can then put the URL of the posted code in your email or forum post. For example, here some pieces of code I’ve posted: http://pastebin.com/SzP2DbFx/ and https://gist.github.com/asweigart/6912168/.\n",
    "\n",
    "- Explain what you’ve already tried to do to solve your problem. This tells people you’ve already put in some work to figure things out on your own.\n",
    "\n",
    "- List the version of Python you’re using. (There are some key differences between version 2 Python interpreters and version 3 Python interpreters.) Also, say which operating system and version you’re running.\n",
    "\n",
    "- If the error came up after you made a change to your code, explain exactly what you changed.\n",
    "\n",
    "- Say whether you’re able to reproduce the error every time you run the program or whether it happens only after you perform certain actions. Explain what those actions are, if so."
   ]
  },
  {
   "cell_type": "code",
   "execution_count": null,
   "metadata": {
    "collapsed": true
   },
   "outputs": [],
   "source": []
  }
 ],
 "metadata": {
  "kernelspec": {
   "display_name": "Python 3",
   "language": "python",
   "name": "python3"
  },
  "language_info": {
   "codemirror_mode": {
    "name": "ipython",
    "version": 3
   },
   "file_extension": ".py",
   "mimetype": "text/x-python",
   "name": "python",
   "nbconvert_exporter": "python",
   "pygments_lexer": "ipython3",
   "version": "3.4.3"
  }
 },
 "nbformat": 4,
 "nbformat_minor": 0
}
